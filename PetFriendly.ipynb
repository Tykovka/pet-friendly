{
 "cells": [
  {
   "cell_type": "markdown",
   "metadata": {},
   "source": [
    "## Pet Friendly Travel\n",
    "\n",
    "### An analysis of pet friendly accommodation listings around the globe."
   ]
  },
  {
   "cell_type": "markdown",
   "metadata": {},
   "source": [
    "The impetus for the analysis came from planning a road trip around Europe. This time I’m going to take my dog with me. Will it be a headache to find a place to stay? From this question I moved further and enquired whether pets are equally welcomed in different parts of the world. \n",
    "\n",
    "This notebook describes some analysis of the data I gathered on Airbnb.com. The goal is to find the most pet friendly countries to travel with a pet based on the ease of accommodation search."
   ]
  },
  {
   "cell_type": "markdown",
   "metadata": {},
   "source": [
    "#### Preliminaries\n",
    "The first thing we need to do is to import Python libraries — pandas, numpy, and matplotlib. I also use humanize library to convert large numbers to a friendly text representation."
   ]
  },
  {
   "cell_type": "code",
   "execution_count": 2,
   "metadata": {
    "collapsed": true
   },
   "outputs": [],
   "source": [
    "from __future__ import division\n",
    "import pandas as pd\n",
    "import matplotlib.pyplot as plt\n",
    "import humanize"
   ]
  },
  {
   "cell_type": "markdown",
   "metadata": {},
   "source": [
    "I'll skip the data gathering step. I used a CSV file with the list of countries and regions to parse airbnb.com website and saved the data as a sqlite dict. That is why I'm going to use sqlitedict library here."
   ]
  },
  {
   "cell_type": "code",
   "execution_count": 3,
   "metadata": {
    "collapsed": true
   },
   "outputs": [],
   "source": [
    "from sqlitedict import SqliteDict\n",
    "db = SqliteDict('./pet_friendly.sqlite')"
   ]
  },
  {
   "cell_type": "markdown",
   "metadata": {},
   "source": [
    "The plots in this document are made using matplotlib’s ggplot style."
   ]
  },
  {
   "cell_type": "code",
   "execution_count": 4,
   "metadata": {
    "collapsed": true
   },
   "outputs": [],
   "source": [
    "import matplotlib\n",
    "%matplotlib inline  \n",
    "matplotlib.style.use('ggplot')"
   ]
  },
  {
   "cell_type": "markdown",
   "metadata": {},
   "source": [
    "### Data overview\n",
    "Next we read in data from the database and take a look at what we're working with."
   ]
  },
  {
   "cell_type": "code",
   "execution_count": 17,
   "metadata": {
    "collapsed": false
   },
   "outputs": [
    {
     "name": "stdout",
     "output_type": "stream",
     "text": [
      "We have 249 countries in the dataset.\n",
      "18 countries have no listings published.\n",
      "We are left with 231 countries for closer examination.\n"
     ]
    },
    {
     "data": {
      "text/html": [
       "<div>\n",
       "<table border=\"1\" class=\"dataframe\">\n",
       "  <thead>\n",
       "    <tr style=\"text-align: right;\">\n",
       "      <th></th>\n",
       "      <th>apt_pets</th>\n",
       "      <th>apt_pets_hist</th>\n",
       "      <th>apt_pets_price</th>\n",
       "      <th>apt_total</th>\n",
       "      <th>apt_total_hist</th>\n",
       "      <th>apt_total_price</th>\n",
       "      <th>country_code</th>\n",
       "      <th>region</th>\n",
       "    </tr>\n",
       "  </thead>\n",
       "  <tbody>\n",
       "    <tr>\n",
       "      <th>Afghanistan</th>\n",
       "      <td>1</td>\n",
       "      <td>[0, 1, 0, 0, 0, 0, 0]</td>\n",
       "      <td>52</td>\n",
       "      <td>4</td>\n",
       "      <td>[2, 2, 0, 0, 0, 0, 0]</td>\n",
       "      <td>55</td>\n",
       "      <td>AFG</td>\n",
       "      <td>Asia</td>\n",
       "    </tr>\n",
       "    <tr>\n",
       "      <th>Albania</th>\n",
       "      <td>285</td>\n",
       "      <td>[191, 87, 4, 2, 1, 0, 0]</td>\n",
       "      <td>33</td>\n",
       "      <td>931</td>\n",
       "      <td>[576, 298, 42, 8, 5, 2, 0]</td>\n",
       "      <td>37</td>\n",
       "      <td>ALB</td>\n",
       "      <td>Europe</td>\n",
       "    </tr>\n",
       "    <tr>\n",
       "      <th>Algeria</th>\n",
       "      <td>37</td>\n",
       "      <td>[14, 16, 4, 2, 1, 0, 0]</td>\n",
       "      <td>54</td>\n",
       "      <td>240</td>\n",
       "      <td>[62, 126, 44, 5, 2, 1, 0]</td>\n",
       "      <td>58</td>\n",
       "      <td>DZA</td>\n",
       "      <td>Africa</td>\n",
       "    </tr>\n",
       "    <tr>\n",
       "      <th>American Samoa</th>\n",
       "      <td>0</td>\n",
       "      <td>[0, 0, 0, 0, 0, 0, 0]</td>\n",
       "      <td>NaN</td>\n",
       "      <td>3</td>\n",
       "      <td>[0, 2, 0, 0, 0, 1, 0]</td>\n",
       "      <td>139</td>\n",
       "      <td>ASM</td>\n",
       "      <td>Oceania</td>\n",
       "    </tr>\n",
       "    <tr>\n",
       "      <th>Andorra</th>\n",
       "      <td>186</td>\n",
       "      <td>[14, 41, 83, 21, 19, 6, 2]</td>\n",
       "      <td>110</td>\n",
       "      <td>405</td>\n",
       "      <td>[31, 135, 146, 38, 30, 19, 6]</td>\n",
       "      <td>102</td>\n",
       "      <td>AND</td>\n",
       "      <td>Europe</td>\n",
       "    </tr>\n",
       "  </tbody>\n",
       "</table>\n",
       "</div>"
      ],
      "text/plain": [
       "                apt_pets               apt_pets_hist  apt_pets_price  \\\n",
       "Afghanistan            1       [0, 1, 0, 0, 0, 0, 0]              52   \n",
       "Albania              285    [191, 87, 4, 2, 1, 0, 0]              33   \n",
       "Algeria               37     [14, 16, 4, 2, 1, 0, 0]              54   \n",
       "American Samoa         0       [0, 0, 0, 0, 0, 0, 0]             NaN   \n",
       "Andorra              186  [14, 41, 83, 21, 19, 6, 2]             110   \n",
       "\n",
       "                apt_total                 apt_total_hist  apt_total_price  \\\n",
       "Afghanistan             4          [2, 2, 0, 0, 0, 0, 0]               55   \n",
       "Albania               931     [576, 298, 42, 8, 5, 2, 0]               37   \n",
       "Algeria               240      [62, 126, 44, 5, 2, 1, 0]               58   \n",
       "American Samoa          3          [0, 2, 0, 0, 0, 1, 0]              139   \n",
       "Andorra               405  [31, 135, 146, 38, 30, 19, 6]              102   \n",
       "\n",
       "               country_code   region  \n",
       "Afghanistan             AFG     Asia  \n",
       "Albania                 ALB   Europe  \n",
       "Algeria                 DZA   Africa  \n",
       "American Samoa          ASM  Oceania  \n",
       "Andorra                 AND   Europe  "
      ]
     },
     "execution_count": 17,
     "metadata": {},
     "output_type": "execute_result"
    }
   ],
   "source": [
    "def read_db_in_pandas(db):\n",
    "    \"\"\" Read the DB.\"\"\"\n",
    "    # Transpose data to have keys as index.\n",
    "    df = pd.DataFrame(dict(db)).T\n",
    "\n",
    "    # Remove rows with no data for a country.\n",
    "    df = df[df['apt_total'] != 0]\n",
    "\n",
    "    # Convert columns into numbers.\n",
    "    df = df.convert_objects(convert_numeric=True)\n",
    "    \n",
    "    return df\n",
    "\n",
    "df = read_db_in_pandas(db)\n",
    "print (\"We have {0} countries in the dataset.\"\n",
    "       .format(len(db)))\n",
    "print (\"{0} countries have no listings published.\"\n",
    "       .format(len(db) - len(df)))\n",
    "print (\"We are left with {0} countries for closer examination.\"\n",
    "       .format(len(df)))\n",
    "df.head()"
   ]
  },
  {
   "cell_type": "markdown",
   "metadata": {},
   "source": [
    "I collected data on total number of listings located in each country ('apt_total') and number of pet friendly listings ('apt_pets'), or in short PFL. I also parsed the average price per night in both categories ('apt_total_price' & 'apt_pets_price')."
   ]
  },
  {
   "cell_type": "code",
   "execution_count": 6,
   "metadata": {
    "collapsed": false
   },
   "outputs": [
    {
     "name": "stdout",
     "output_type": "stream",
     "text": [
      "There are 1.9 million listings all over the world on Airbnb.\n",
      "Pets would be welcomed only in 21% of all listings.\n"
     ]
    }
   ],
   "source": [
    "# Number of listings.\n",
    "apt_sum = df['apt_total'].sum()\n",
    "\n",
    "# Number of pet friendly listings.\n",
    "pets_sum = df['apt_pets'].sum()\n",
    "\n",
    "# Share of pet friendly listings.\n",
    "pets_share = round(pets_sum/apt_sum * 100)\n",
    "print (\"There are {0} listings all over the world on Airbnb.\"\n",
    "       .format(humanize.intword(apt_sum)))\n",
    "print (\"Pets would be welcomed only in {0}% of all listings.\"\n",
    "       .format(int(pets_share)))"
   ]
  },
  {
   "cell_type": "code",
   "execution_count": 7,
   "metadata": {
    "collapsed": false
   },
   "outputs": [
    {
     "name": "stdout",
     "output_type": "stream",
     "text": [
      "The average price for a listing is $126 per night.\n",
      "A PFL would cost 10% less, or $114.\n"
     ]
    }
   ],
   "source": [
    "# Average price per night.\n",
    "price_mean = round(df['apt_total_price'].mean())\n",
    "pet_mean = round(df['apt_pets_price'].mean())\n",
    "\n",
    "# Difference in price.\n",
    "diff = round((price_mean - pet_mean) / price_mean * 100)\n",
    "    \n",
    "print (\"The average price for a listing is ${0} per night.\"\n",
    "       .format(int(price_mean)))\n",
    "print (\"A PFL would cost {0}% less, or ${1}.\"\n",
    "       .format(int(diff), int(pet_mean)))"
   ]
  },
  {
   "cell_type": "markdown",
   "metadata": {},
   "source": [
    "A quick glance at the whole dataset reveals that countries with few listings do not tell much about their attitude towards pets. The above calculations would tell us that 100% of listings in Western Sahara are pet friendly only because there is only one listing and it is pet friendly."
   ]
  },
  {
   "cell_type": "code",
   "execution_count": 8,
   "metadata": {
    "collapsed": false
   },
   "outputs": [
    {
     "name": "stdout",
     "output_type": "stream",
     "text": [
      "The friendliest countries:\n"
     ]
    },
    {
     "data": {
      "text/plain": [
       "Western Sahara               1.000000\n",
       "Wallis and Futuna            1.000000\n",
       "Saint Pierre and Miquelon    0.800000\n",
       "Guinea                       0.615385\n",
       "Antarctica                   0.588235\n",
       "dtype: float64"
      ]
     },
     "execution_count": 8,
     "metadata": {},
     "output_type": "execute_result"
    }
   ],
   "source": [
    "# Percent of PFL \n",
    "compare = df['apt_pets']/df['apt_total']\n",
    "compare.sort(ascending=False)\n",
    "# Let's look at the top-5 friendliest countries\n",
    "print \"The friendliest countries:\"\n",
    "compare[:5]"
   ]
  },
  {
   "cell_type": "markdown",
   "metadata": {},
   "source": [
    "Antarctica? Really? Do penguins rent out their nests? Apparently, there's some mistake on Airbnb. 17  listings located in different parts of the globe were mistakenly marked off as based in Antarctica.\n",
    "I'll fix the dataset a bit for further analysis."
   ]
  },
  {
   "cell_type": "code",
   "execution_count": 9,
   "metadata": {
    "collapsed": false
   },
   "outputs": [
    {
     "name": "stdout",
     "output_type": "stream",
     "text": [
      "These changes leave us 203 countries to examine.\n",
      "\n",
      "Top-5 countries with the highest percent of PFL:\n"
     ]
    },
    {
     "data": {
      "text/plain": [
       "Guinea          0.615385\n",
       "Andorra         0.459259\n",
       "Mauritania      0.416667\n",
       "Burundi         0.384615\n",
       "Burkina Faso    0.381818\n",
       "dtype: float64"
      ]
     },
     "execution_count": 9,
     "metadata": {},
     "output_type": "execute_result"
    }
   ],
   "source": [
    "# Add a threshold of 10 listings.\n",
    "df_cut = df[df['apt_total'] > 10]\n",
    "# Remove Antarctica.\n",
    "df_cut = df_cut[df_cut.index != 'Antarctica']\n",
    "\n",
    "print (\"These changes leave us {0} countries to examine.\"\n",
    "       .format(len(df_cut)))\n",
    "print \"\\nTop-5 countries with the highest percent of PFL:\"\n",
    "\n",
    "compare = df_cut['apt_pets'] / df_cut['apt_total']\n",
    "compare.sort(ascending=False)\n",
    "compare[:5]"
   ]
  },
  {
   "cell_type": "markdown",
   "metadata": {},
   "source": [
    "Guinea is the most welcoming country where 61.5% of all 13 listings are ready to accommodate a pet.\n",
    "Only in Palau, no one is willing to host a pet. I'll have to exclude this country from my road trip for now. "
   ]
  },
  {
   "cell_type": "code",
   "execution_count": 10,
   "metadata": {
    "collapsed": false,
    "scrolled": true
   },
   "outputs": [
    {
     "data": {
      "text/plain": [
       "Kazakhstan                  0.041128\n",
       "Anguilla                    0.037634\n",
       "Cook Islands                0.024590\n",
       "Northern Mariana Islands    0.023810\n",
       "Palau                       0.000000\n",
       "dtype: float64"
      ]
     },
     "execution_count": 10,
     "metadata": {},
     "output_type": "execute_result"
    }
   ],
   "source": [
    "compare[-5:]"
   ]
  },
  {
   "cell_type": "markdown",
   "metadata": {},
   "source": [
    "### Regions overview\n",
    "Let's group data by regions and compare their performance not only in percent of PFL but also in price difference."
   ]
  },
  {
   "cell_type": "code",
   "execution_count": 16,
   "metadata": {
    "collapsed": false
   },
   "outputs": [
    {
     "name": "stdout",
     "output_type": "stream",
     "text": [
      "Number of countries in the dataset grouped by region:\n"
     ]
    },
    {
     "data": {
      "text/plain": [
       "region\n",
       "Africa      41\n",
       "Americas    53\n",
       "Asia        44\n",
       "Europe      51\n",
       "Oceania     14\n",
       "dtype: int64"
      ]
     },
     "execution_count": 16,
     "metadata": {},
     "output_type": "execute_result"
    }
   ],
   "source": [
    "print (\"Number of countries in the dataset \"\n",
    "       \"grouped by region:\")\n",
    "df_cut.groupby(['region']).size()"
   ]
  },
  {
   "cell_type": "markdown",
   "metadata": {},
   "source": [
    "We'll look at the distribution of accommodation listings among regions."
   ]
  },
  {
   "cell_type": "code",
   "execution_count": 12,
   "metadata": {
    "collapsed": false,
    "scrolled": true
   },
   "outputs": [
    {
     "data": {
      "text/html": [
       "<div>\n",
       "<table border=\"1\" class=\"dataframe\">\n",
       "  <thead>\n",
       "    <tr style=\"text-align: right;\">\n",
       "      <th></th>\n",
       "      <th>apt_total</th>\n",
       "      <th>apt_pets</th>\n",
       "    </tr>\n",
       "    <tr>\n",
       "      <th>region</th>\n",
       "      <th></th>\n",
       "      <th></th>\n",
       "    </tr>\n",
       "  </thead>\n",
       "  <tbody>\n",
       "    <tr>\n",
       "      <th>Africa</th>\n",
       "      <td>0.021271</td>\n",
       "      <td>0.019250</td>\n",
       "    </tr>\n",
       "    <tr>\n",
       "      <th>Americas</th>\n",
       "      <td>0.278196</td>\n",
       "      <td>0.246992</td>\n",
       "    </tr>\n",
       "    <tr>\n",
       "      <th>Asia</th>\n",
       "      <td>0.121225</td>\n",
       "      <td>0.079872</td>\n",
       "    </tr>\n",
       "    <tr>\n",
       "      <th>Europe</th>\n",
       "      <td>0.544121</td>\n",
       "      <td>0.630442</td>\n",
       "    </tr>\n",
       "    <tr>\n",
       "      <th>Oceania</th>\n",
       "      <td>0.035188</td>\n",
       "      <td>0.023443</td>\n",
       "    </tr>\n",
       "  </tbody>\n",
       "</table>\n",
       "</div>"
      ],
      "text/plain": [
       "          apt_total  apt_pets\n",
       "region                       \n",
       "Africa     0.021271  0.019250\n",
       "Americas   0.278196  0.246992\n",
       "Asia       0.121225  0.079872\n",
       "Europe     0.544121  0.630442\n",
       "Oceania    0.035188  0.023443"
      ]
     },
     "execution_count": 12,
     "metadata": {},
     "output_type": "execute_result"
    }
   ],
   "source": [
    "# All listings\n",
    "region_total = (df_cut['apt_total']\n",
    "                   .groupby(df_cut['region']).sum()\n",
    "                   / df_cut['apt_total'].sum())\n",
    "# PFL listings\n",
    "region_pets = (df_cut['apt_pets']\n",
    "               .groupby(df_cut['region']).sum()\n",
    "               / df_cut['apt_pets'].sum())\n",
    "\n",
    "region_listings = pd.concat([region_total, region_pets], \n",
    "                            axis=1)\n",
    "region_listings"
   ]
  },
  {
   "cell_type": "code",
   "execution_count": 13,
   "metadata": {
    "collapsed": false
   },
   "outputs": [
    {
     "data": {
      "text/plain": [
       "<matplotlib.figure.Figure at 0x10dc346d0>"
      ]
     },
     "metadata": {},
     "output_type": "display_data"
    },
    {
     "data": {
      "image/png": "[encoded data removed]",
      "text/plain": [
       "<matplotlib.figure.Figure at 0x10dc22450>"
      ]
     },
     "metadata": {},
     "output_type": "display_data"
    }
   ],
   "source": [
    "# Make a bar chart\n",
    "plt.figure();\n",
    "region_listings.plot(kind='bar')\n",
    "plt.xlabel('')\n",
    "plt.ylabel('Percent')\n",
    "plt.title('The distribution of accommodation ' \n",
    "          'listings among regions \\n')\n",
    "plt.show()"
   ]
  },
  {
   "cell_type": "markdown",
   "metadata": {},
   "source": [
    "The plot and the table above reveal that the highest percentage of Airbnb listings (54.4%) are located in Europe. The European share of global PFL reaches 63%. Americas region lags behind with 27.8% share. \n",
    "\n",
    "Not only listings are distributed unevenly. The average price per night differes greatly in every region."
   ]
  },
  {
   "cell_type": "code",
   "execution_count": 14,
   "metadata": {
    "collapsed": false
   },
   "outputs": [
    {
     "data": {
      "text/html": [
       "<div>\n",
       "<table border=\"1\" class=\"dataframe\">\n",
       "  <thead>\n",
       "    <tr style=\"text-align: right;\">\n",
       "      <th></th>\n",
       "      <th>apt_total_price</th>\n",
       "      <th>apt_pets_price</th>\n",
       "      <th>ratio</th>\n",
       "    </tr>\n",
       "    <tr>\n",
       "      <th>region</th>\n",
       "      <th></th>\n",
       "      <th></th>\n",
       "      <th></th>\n",
       "    </tr>\n",
       "  </thead>\n",
       "  <tbody>\n",
       "    <tr>\n",
       "      <th>Africa</th>\n",
       "      <td>67.756098</td>\n",
       "      <td>65.731707</td>\n",
       "      <td>0.970122</td>\n",
       "    </tr>\n",
       "    <tr>\n",
       "      <th>Asia</th>\n",
       "      <td>77.795455</td>\n",
       "      <td>108.613636</td>\n",
       "      <td>1.396144</td>\n",
       "    </tr>\n",
       "    <tr>\n",
       "      <th>Europe</th>\n",
       "      <td>88.509804</td>\n",
       "      <td>101.509804</td>\n",
       "      <td>1.146876</td>\n",
       "    </tr>\n",
       "    <tr>\n",
       "      <th>Oceania</th>\n",
       "      <td>114.214286</td>\n",
       "      <td>128.461538</td>\n",
       "      <td>1.124741</td>\n",
       "    </tr>\n",
       "    <tr>\n",
       "      <th>Americas</th>\n",
       "      <td>218.924528</td>\n",
       "      <td>147.698113</td>\n",
       "      <td>0.674653</td>\n",
       "    </tr>\n",
       "  </tbody>\n",
       "</table>\n",
       "</div>"
      ],
      "text/plain": [
       "          apt_total_price  apt_pets_price     ratio\n",
       "region                                             \n",
       "Africa          67.756098       65.731707  0.970122\n",
       "Asia            77.795455      108.613636  1.396144\n",
       "Europe          88.509804      101.509804  1.146876\n",
       "Oceania        114.214286      128.461538  1.124741\n",
       "Americas       218.924528      147.698113  0.674653"
      ]
     },
     "execution_count": 14,
     "metadata": {},
     "output_type": "execute_result"
    }
   ],
   "source": [
    "region_price = df_cut.groupby(df_cut['region']).mean()[['apt_total_price', \n",
    "                                         'apt_pets_price']]\n",
    "# Calculate ratio of PFL price to general listing price. \n",
    "region_price['ratio'] = region_price['apt_pets_price'] / region_price['apt_total_price']\n",
    "region_price.sort('apt_total_price')"
   ]
  },
  {
   "cell_type": "markdown",
   "metadata": {},
   "source": [
    "The cheapest region in terms of accommodation is Africa. Staying with a pet would cost even less - just $66 a night.\n",
    "\n",
    "In Asia, price for a listing is rather low and equals $78, however pet allowance adds 40% to the average price. That is more expensive than a PFL in Europe. \n",
    "\n",
    "In Europe to stay with a pet would cost 15% more. But in any case this price is lower than in Oceania and Americas. \n",
    "\n",
    "Americas is the most expensive region to rent an apartment with average price reaching $218. Luxury apartments in Americas close theis doors to pet owners. That lowers the average price for a PFL to 32% but it's still the highest among regions. "
   ]
  },
  {
   "cell_type": "code",
   "execution_count": 15,
   "metadata": {
    "collapsed": false
   },
   "outputs": [
    {
     "data": {
      "text/plain": [
       "<matplotlib.axes._subplots.AxesSubplot at 0x10dc38910>"
      ]
     },
     "execution_count": 15,
     "metadata": {},
     "output_type": "execute_result"
    },
    {
     "data": {
      "image/png": "[encoded data removed]",
      "text/plain": [
       "<matplotlib.figure.Figure at 0x10de51190>"
      ]
     },
     "metadata": {},
     "output_type": "display_data"
    }
   ],
   "source": [
    "color = dict(boxes='DarkGreen', whiskers='DarkOrange',\n",
    "             medians='DarkBlue', caps='Gray')\n",
    "b_df = df_cut.groupby(['region'])[['apt_total_price']]\n",
    "eu = b_df.get_group('Europe')\n",
    "af = b_df.get_group('Africa')\n",
    "am = b_df.get_group('Americas')\n",
    "oc = b_df.get_group('Oceania')\n",
    "ai = b_df.get_group('Asia')\n",
    "abr = pd.concat([eu, af, oc, ai], ignore_index=True, axis=1)\n",
    "abr.plot(kind='box', color=color, sym='r+')"
   ]
  },
  {
   "cell_type": "markdown",
   "metadata": {
    "collapsed": false
   },
   "source": [
    "### Country overview\n",
    "Ok, so now we know that Europe is a region to go with a pet. It provides the biggest number of PFL, though price is 7% higher for a pet friendly place. In which European countries hosts would welcome guests with pets?"
   ]
  },
  {
   "cell_type": "code",
   "execution_count": null,
   "metadata": {
    "collapsed": false
   },
   "outputs": [],
   "source": []
  },
  {
   "cell_type": "code",
   "execution_count": null,
   "metadata": {
    "collapsed": true
   },
   "outputs": [],
   "source": []
  }
 ],
 "metadata": {
  "kernelspec": {
   "display_name": "Python 2",
   "language": "python",
   "name": "python2"
  },
  "language_info": {
   "codemirror_mode": {
    "name": "ipython",
    "version": 2
   },
   "file_extension": ".py",
   "mimetype": "text/x-python",
   "name": "python",
   "nbconvert_exporter": "python",
   "pygments_lexer": "ipython2",
   "version": "2.7.10"
  }
 },
 "nbformat": 4,
 "nbformat_minor": 0
}
